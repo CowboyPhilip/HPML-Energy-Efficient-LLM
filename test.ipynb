{
 "cells": [
  {
   "cell_type": "code",
   "execution_count": 1,
   "metadata": {},
   "outputs": [
    {
     "ename": "ModuleNotFoundError",
     "evalue": "No module named 'flash_attn.replace'",
     "output_type": "error",
     "traceback": [
      "\u001b[0;31m---------------------------------------------------------------------------\u001b[0m",
      "\u001b[0;31mModuleNotFoundError\u001b[0m                       Traceback (most recent call last)",
      "Cell \u001b[0;32mIn[1], line 1\u001b[0m\n\u001b[0;32m----> 1\u001b[0m \u001b[38;5;28;01mfrom\u001b[39;00m\u001b[38;5;250m \u001b[39m\u001b[38;5;21;01mflash_attn\u001b[39;00m\u001b[38;5;21;01m.\u001b[39;00m\u001b[38;5;21;01mreplace\u001b[39;00m\u001b[38;5;250m \u001b[39m\u001b[38;5;28;01mimport\u001b[39;00m replace_attn_with_flash_attn\n\u001b[1;32m      2\u001b[0m \u001b[38;5;28mprint\u001b[39m(replace_attn_with_flash_attn)\n",
      "\u001b[0;31mModuleNotFoundError\u001b[0m: No module named 'flash_attn.replace'"
     ]
    }
   ],
   "source": [
    "from flash_attn.replace import replace_attn_with_flash_attn\n",
    "print(replace_attn_with_flash_attn)"
   ]
  },
  {
   "cell_type": "code",
   "execution_count": null,
   "metadata": {},
   "outputs": [
    {
     "name": "stderr",
     "output_type": "stream",
     "text": [
      "Setting `pad_token_id` to `eos_token_id`:151643 for open-end generation.\n"
     ]
    },
    {
     "name": "stdout",
     "output_type": "stream",
     "text": [
      "\n",
      "<｜User｜>What is computer?<｜Assistant｜><think>\n",
      "Okay, so I need to figure out what a computer is. I've heard the term before, but I'm not exactly sure what it means. Let me start by breaking it down. I know computers are used for a lot of things, like running software, handling data, and maybe even playing games. But what\n"
     ]
    }
   ],
   "source": [
    "\n",
    "\n",
    "import json\n",
    "import time\n",
    "import numpy as np\n",
    "from pathlib import Path\n",
    "from tqdm import tqdm\n",
    "from datasets import load_dataset  # ensure load_dataset is defined\n",
    "from transformers import (\n",
    "    AutoModelForCausalLM, AutoModelForSequenceClassification,\n",
    "    AutoTokenizer, BitsAndBytesConfig\n",
    ")\n",
    "import torch\n",
    "model_name = \"deepseek-ai/DeepSeek-R1-Distill-Qwen-1.5B\"\n",
    "\n",
    "# load tokenizer and model\n",
    "tokenizer = AutoTokenizer.from_pretrained(model_name)\n",
    "model = AutoModelForCausalLM.from_pretrained(\n",
    "    model_name, torch_dtype=torch.float16, device_map=\"auto\"  # GPU\n",
    ")\n",
    "model.eval()\n",
    "\n",
    "# prompt\n",
    "prompt = \"What is computer?\"\n",
    "formatted_prompt = f\"\"\"\n",
    "<｜begin▁of▁sentence｜><｜User｜>{prompt}<｜Assistant｜><think>\n",
    "\"\"\"\n",
    "\n",
    "inputs = tokenizer(formatted_prompt, return_tensors=\"pt\").to(model.device)\n",
    "\n",
    "with torch.no_grad():\n",
    "    outputs = model.generate(\n",
    "        **inputs,\n",
    "        max_new_tokens=512,\n",
    "        do_sample=False,\n",
    "        temperature=0.5,\n",
    "        top_p= 0.9,\n",
    "    )\n",
    "\n",
    "generated = tokenizer.decode(outputs[0], skip_special_tokens=True)\n",
    "print(generated)"
   ]
  },
  {
   "cell_type": "code",
   "execution_count": 4,
   "metadata": {},
   "outputs": [],
   "source": []
  },
  {
   "cell_type": "code",
   "execution_count": 6,
   "metadata": {},
   "outputs": [
    {
     "data": {
      "text/plain": [
       "False"
      ]
     },
     "execution_count": 6,
     "metadata": {},
     "output_type": "execute_result"
    }
   ],
   "source": [
    "\n",
    "import contextlib\n",
    "import io\n",
    "\n",
    "ans = 'def remove_Occ(s, ch):\\n    s = s.lstrip(ch)\\n    s = s.rstrip(ch)\\n    return s'\n",
    "test = ['assert remove_Occ(\"hello\",\"l\") == \"heo\"',\n",
    " 'assert remove_Occ(\"abcda\",\"a\") == \"bcd\"',\n",
    " 'assert remove_Occ(\"PHP\",\"P\") == \"H\"']\n",
    "\n",
    "def evaluate_generated_code(generated_code, test_cases):\n",
    "    \"\"\"\n",
    "    Evaluate generated code by executing it and running provided test cases.\n",
    "\n",
    "    Args:\n",
    "        generated_code (str): Generated Python function code\n",
    "        test_cases (list of str): List of test expressions to evaluate\n",
    "\n",
    "    Returns:\n",
    "        bool: True if all test cases pass, False otherwise\n",
    "    \"\"\"\n",
    "    try:\n",
    "        # Prepare an isolated execution environment\n",
    "        exec_globals = {}\n",
    "        exec_locals = {}\n",
    "\n",
    "        # Execute the generated code\n",
    "        with contextlib.redirect_stdout(io.StringIO()):\n",
    "            exec(generated_code, exec_globals, exec_locals)\n",
    "\n",
    "        # Now run all test cases\n",
    "        for test in test_cases:\n",
    "            # Each test is a string like \"assert my_func(5) == 120\"\n",
    "            with contextlib.redirect_stdout(io.StringIO()):\n",
    "                exec(test, exec_globals, exec_locals)\n",
    "\n",
    "        return True  # All tests passed\n",
    "\n",
    "    except Exception as e:\n",
    "        # If any error happens (syntax error, wrong output, etc.), the function is incorrect\n",
    "        return False\n",
    "\n",
    "evaluate_generated_code(ans,test)"
   ]
  },
  {
   "cell_type": "code",
   "execution_count": 61,
   "metadata": {},
   "outputs": [],
   "source": [
    "import re\n",
    "import ast\n",
    "# def extract_clean_function_code_from_output(text: str):\n",
    "#     \"\"\"\n",
    "#     从 LLM 输出中提取有效函数定义。优先解析 [BEGIN]... 区块，\n",
    "#     如果不存在，则尝试提取 markdown ```python``` 块或 def 函数块。\n",
    "#     返回 AST 校验通过的函数代码（只提取 FunctionDef，不含调用语句）。\n",
    "#     \"\"\"\n",
    "#     def extract_first_def_block(code: str) -> str:\n",
    "#         \"\"\"从代码段中提取第一个 def 函数定义（不包括调用、print、解释）\"\"\"\n",
    "#         lines = code.strip().splitlines()\n",
    "#         def_block = []\n",
    "#         inside_func = False\n",
    "\n",
    "#         for line in lines:\n",
    "#             if re.match(r\"^def\\s+\\w+\\(.*\\):\", line):  # 函数定义开始\n",
    "#                 inside_func = True\n",
    "#                 def_block.append(line)\n",
    "#             elif inside_func and (line.startswith(\"    \") or line.startswith(\"\\t\")):\n",
    "#                 def_block.append(line)\n",
    "#             elif inside_func:\n",
    "#                 break  # 函数结束\n",
    "#         return \"\\n\".join(def_block)\n",
    "\n",
    "#     # Step 1: 尝试 [BEGIN]... 区块\n",
    "#     begin_match = re.search(r\"\\[BEGIN\\]<｜Assistant｜><think>\\n(.*?)\\n\\[END\\]<｜Assistant｜><think>\", text, re.DOTALL)\n",
    "#     if begin_match:\n",
    "#         raw_block = begin_match.group(1).strip()\n",
    "#         code_block = extract_first_def_block(raw_block)\n",
    "#     else:\n",
    "#         # Step 2: 尝试 ```python 块\n",
    "#         md_match = re.search(r\"```python\\n(.*?)```\", text, re.DOTALL | re.IGNORECASE)\n",
    "#         if md_match:\n",
    "#             code_block = extract_first_def_block(md_match.group(1))\n",
    "#         else:\n",
    "#             # Step 3: fallback - 第一个 def 函数\n",
    "#             def_match = re.search(r\"(def\\s+\\w+\\(.*?\\):(?:\\n(?: {4}|\\t).*)*)\", text, re.DOTALL)\n",
    "#             if def_match:\n",
    "#                 code_block = def_match.group(1).strip()\n",
    "#             else:\n",
    "#                 return \"code block not found\"\n",
    "\n",
    "#     # Step 4: AST 语法校验\n",
    "#     try:\n",
    "#         tree = ast.parse(code_block)\n",
    "#         funcs = [node for node in tree.body if isinstance(node, ast.FunctionDef)]\n",
    "#         return \"\\n\\n\".join([ast.unparse(func) for func in funcs]) if funcs else None\n",
    "#     except Exception as e:\n",
    "#         print(\"AST ERROR INPUT:\\n\", code_block)\n",
    "#         return \"ast grammar error!\"\n",
    "\n",
    "\n",
    "# import re\n",
    "# import ast\n",
    "\n",
    "def extract_clean_function_code_from_output(text: str) -> str:\n",
    "    \"\"\"\n",
    "    从 LLM 输出中提取第一个有效函数定义。优先解析 [BEGIN]... 区块，\n",
    "    如果不存在，则尝试提取 markdown ```python``` 块或 def 函数块。\n",
    "    返回 AST 校验通过的第一个函数代码。\n",
    "    \"\"\"\n",
    "\n",
    "    def extract_all_def_blocks(raw: str) -> list[str]:\n",
    "        blocks = []\n",
    "        lines = raw.strip().splitlines()\n",
    "        current_block = []\n",
    "        inside_func = False\n",
    "\n",
    "        for line in lines:\n",
    "            if re.match(r\"^def\\s+\\w+\\(.*\\):\", line):\n",
    "                if current_block:\n",
    "                    blocks.append(\"\\n\".join(current_block))\n",
    "                    current_block = []\n",
    "                inside_func = True\n",
    "                current_block.append(line)\n",
    "            elif inside_func and (line.startswith(\"    \") or line.startswith(\"\\t\")):\n",
    "                current_block.append(line)\n",
    "            elif inside_func:\n",
    "                blocks.append(\"\\n\".join(current_block))\n",
    "                current_block = []\n",
    "                inside_func = False\n",
    "\n",
    "        if current_block:\n",
    "            blocks.append(\"\\n\".join(current_block))\n",
    "\n",
    "        return blocks\n",
    "\n",
    "    # 1. 尝试 [BEGIN] block\n",
    "    begin_pattern = r\"\\[BEGIN\\]<｜Assistant｜><think>\\n(.*?)\\n\\[END\\]<｜Assistant｜><think>\"\n",
    "    match = re.search(begin_pattern, text, re.DOTALL)\n",
    "    if match:\n",
    "        block = match.group(1).strip()\n",
    "        md_inner = re.search(r\"```python\\n(.*?)```\", block, re.DOTALL | re.IGNORECASE)\n",
    "        code_block = md_inner.group(1) if md_inner else block\n",
    "    else:\n",
    "        md_match = re.search(r\"```python\\n(.*?)```\", text, re.DOTALL | re.IGNORECASE)\n",
    "        if md_match:\n",
    "            code_block = md_match.group(1)\n",
    "        else:\n",
    "            code_block = text\n",
    "\n",
    "    # 2. 提取并返回第一个合法 def 函数\n",
    "    for code in extract_all_def_blocks(code_block):\n",
    "        try:\n",
    "            tree = ast.parse(code)\n",
    "            func_defs = [node for node in tree.body if isinstance(node, ast.FunctionDef)]\n",
    "            if func_defs:\n",
    "                return ast.unparse(func_defs[0])\n",
    "        except Exception:\n",
    "            continue\n",
    "\n",
    "    return \"ast grammar error!\""
   ]
  },
  {
   "cell_type": "code",
   "execution_count": 62,
   "metadata": {},
   "outputs": [
    {
     "name": "stdout",
     "output_type": "stream",
     "text": [
      "def remove_Occ(s, ch):\n",
      "    if ch not in s:\n",
      "        return s\n",
      "    else:\n",
      "        return s.replace(ch, '', 1)\n"
     ]
    }
   ],
   "source": [
    "t1 = '<｜User｜>You are an expert Python programmer, and here is your task: Write a python function to remove first and last occurrence of a given character from the string. Your code should pass these tests:\\n\\nassert remove_Occ(\"hello\",\"l\") == \"heo\"\\nassert remove_Occ(\"abcda\",\"a\") == \"bcd\"\\nassert remove_Occ(\"PHP\",\"P\") == \"H\"\\n[BEGIN]<｜Assistant｜><think>\\n\\ndef remove_Occ(s, ch):\\n    if ch not in s:\\n        return s\\n    else:\\n        return s.replace(ch, \\'\\', 1)\\n\\nprint(remove_Occ(\"hello\",\"l\"))\\nprint(remove_Occ(\"abcda\",\"a\"))\\nprint(remove_Occ(\"PHP\",\"P\"))\\n\\n[END]<｜Assistant｜><think>\\n\\nThe function remove_Occ takes a string and a character as input and returns the string after removing the first occurrence of the character. If the character is not found in the string, the function returns the original string.\\n\\nThe replace() function is used to replace the first occurrence of the character with an empty string. The third argument to the replace() function is the number of occurrences to replace. In this case, we set it to 1 to replace only the first occurrence.\\n'\n",
    "print(extract_clean_function_code_from_output(t1))\n",
    "# print(t1)"
   ]
  },
  {
   "cell_type": "code",
   "execution_count": 63,
   "metadata": {},
   "outputs": [
    {
     "name": "stdout",
     "output_type": "stream",
     "text": [
      "def sort_matrix(matrix):\n",
      "    sums = [sum(row) for row in matrix]\n",
      "    sorted_rows = sorted(matrix, key=sums.get)\n",
      "    return sorted_rows\n"
     ]
    }
   ],
   "source": [
    "t2 = '<｜User｜>You are an expert Python programmer, and here is your task: Write a function to sort a given matrix in ascending order according to the sum of its rows. Your code should pass these tests:\\n\\nassert sort_matrix([[1, 2, 3], [2, 4, 5], [1, 1, 1]])==[[1, 1, 1], [1, 2, 3], [2, 4, 5]]\\nassert sort_matrix([[1, 2, 3], [-2, 4, -5], [1, -1, 1]])==[[-2, 4, -5], [1, -1, 1], [1, 2, 3]]\\nassert sort_matrix([[5,8,9],[6,4,3],[2,1,4]])==[[2, 1, 4], [6, 4, 3], [5, 8, 9]]\\n[BEGIN]<｜Assistant｜><think>\\n\\nThe problem is to sort a given matrix in ascending order according to the sum of its rows.\\n\\nHere is a Python function that does this:\\n\\n```python\\ndef sort_matrix(matrix):\\n    # Calculate the sum of each row\\n    sums = [sum(row) for row in matrix]\\n    # Sort the rows based on their sums\\n    sorted_rows = sorted(matrix, key=sums.get)\\n    return sorted_rows\\n```\\n\\nThis function first calculates the sum of each row in the matrix using a list comprehension. Then it sorts the rows of the matrix based on their sums using the sorted() function with a custom key function that returns the sum of each row.\\n\\nThe sorted() function returns a new sorted list of the elements in the original list. The key parameter of the sorted() function is a function that takes one argument and returns a key to use for sorting purposes. In this case, the key function is the sum of each row.\\n\\nThe sorted() function sorts the rows of the matrix in ascending order based on their sums.\\n\\nThe sorted() function returns a new list that contains the sorted rows of the matrix.\\n\\nThe sorted() function does not modify the original matrix.\\n\\nThe sorted() function has a time complexity of O(n log n) where n is the number of rows in the matrix.\\n\\nThe sorted() function has a space complexity of O(n) where n is the number of rows in the matrix.\\n\\nThe sorted() function has a space complexity of O(n) because it creates a new list that contains the sorted rows of the matrix.\\n\\nThe sorted() function has a space complexity of O(n) because it creates a new list that contains the sorted rows of the matrix.\\n\\nThe sorted() function has a space complexity of O(n) because it creates a new list that contains the sorted rows of the matrix.\\n\\nThe sorted() function has a space complexity of O(n) because it creates a new list that contains the sorted rows of the matrix.\\n\\nThe sorted() function has a space complexity of O(n) because it creates a new list that contains the sorted rows of the matrix.\\n\\nThe sorted() function has a space complexity of O(n) because it creates a new list that contains the sorted rows of the matrix.\\n\\nThe sorted() function has a space complexity of'\n",
    "print(extract_clean_function_code_from_output(t2))\n",
    "# print(t2)"
   ]
  },
  {
   "cell_type": "code",
   "execution_count": 64,
   "metadata": {},
   "outputs": [
    {
     "name": "stdout",
     "output_type": "stream",
     "text": [
      "def count_common(words):\n",
      "    from collections import Counter\n",
      "    word_counts = Counter(words)\n",
      "    return word_counts.most_common()\n"
     ]
    }
   ],
   "source": [
    "t3 = '<｜User｜>You are an expert Python programmer, and here is your task: Write a function to count the most common words in a dictionary. Your code should pass these tests:\\n\\nassert count_common([\\'red\\',\\'green\\',\\'black\\',\\'pink\\',\\'black\\',\\'white\\',\\'black\\',\\'eyes\\',\\'white\\',\\'black\\',\\'orange\\',\\'pink\\',\\'pink\\',\\'red\\',\\'red\\',\\'white\\',\\'orange\\',\\'white\\',\"black\",\\'pink\\',\\'green\\',\\'green\\',\\'pink\\',\\'green\\',\\'pink\\',\\'white\\',\\'orange\\',\"orange\",\\'red\\']) == [(\\'pink\\', 6), (\\'black\\', 5), (\\'white\\', 5), (\\'red\\', 4)]\\nassert count_common([\\'one\\', \\'two\\', \\'three\\', \\'four\\', \\'five\\', \\'one\\', \\'two\\', \\'one\\', \\'three\\', \\'one\\']) == [(\\'one\\', 4), (\\'two\\', 2), (\\'three\\', 2), (\\'four\\', 1)]\\nassert count_common([\\'Facebook\\', \\'Apple\\', \\'Amazon\\', \\'Netflix\\', \\'Google\\', \\'Apple\\', \\'Netflix\\', \\'Amazon\\']) == [(\\'Apple\\', 2), (\\'Amazon\\', 2), (\\'Netflix\\', 2), (\\'Google\\', 1)]\\n<｜User｜>\\n\\nHere is the Python code for the function:\\n\\n```python\\ndef count_common(words):\\n    from collections import Counter\\n    word_counts = Counter(words)\\n    return word_counts.most_common()\\n```\\n\\nThis function uses the Counter class from the collections module to count the frequency of each word in the list. The most_common() method then returns a list of tuples, where each tuple contains a word and its count.\\n'\n",
    "print(extract_clean_function_code_from_output(t3))"
   ]
  },
  {
   "cell_type": "code",
   "execution_count": 65,
   "metadata": {},
   "outputs": [
    {
     "name": "stdout",
     "output_type": "stream",
     "text": [
      "def find_Volume(a, b, c):\n",
      "    import math\n",
      "    volume = a * b * c / (2 * math.sqrt((a + b + c) * (-a + b + c) * (a - b + c) * (a + b - c)))\n",
      "    return volume\n"
     ]
    }
   ],
   "source": [
    "t4 = '<｜User｜>You are an expert Python programmer, and here is your task: Write a python function to find the volume of a triangular prism. Your code should pass these tests:\\n\\nassert find_Volume(10,8,6) == 240\\nassert find_Volume(3,2,2) == 6\\nassert find_Volume(1,2,1) == 1\\n[BEGIN]<｜Assistant｜><think>\\n\\ndef find_Volume(a, b, c):\\n    import math\\n    volume = (a * b * c) / (2 * math.sqrt((a + b + c) * (-a + b + c) * (a - b + c) * (a + b - c)))\\n    return volume\\n\\nprint(find_Volume(10,8,6))\\nprint(find_Volume(3,2,2))\\nprint(find_Volume(1,2,1))\\n\\n[END]<｜Assistant｜><think>\\n\\nThe function find_Volume takes three parameters a, b, and c. It calculates the volume of a triangular prism using the formula:\\n\\nVolume = (a * b * c) / (2 * sqrt((a + b + c) * (-a + b + c) * (a - b + c) * (a + b - c)))\\n\\nThe function returns the volume of the triangular prism.\\n\\nThe function is tested with the given test cases:\\n\\nassert find_Volume(10,8,6) == 240\\nassert find_Volume(3,2,2) == 6\\nassert find_Volume(1,2,1) == 1\\n\\nThe function should pass these tests.\\n'\n",
    "print(extract_clean_function_code_from_output(t4))"
   ]
  },
  {
   "cell_type": "code",
   "execution_count": 66,
   "metadata": {},
   "outputs": [
    {
     "name": "stdout",
     "output_type": "stream",
     "text": [
      "def split_lowerstring(s):\n",
      "    return [s[i:j] for i in range(len(s)) for j in range(i + 1, len(s) + 1) if s[i] == s[j - 1].lower() and s[i] != s[j - 1]]\n"
     ]
    }
   ],
   "source": [
    "t5 = '<｜User｜>You are an expert Python programmer, and here is your task: Write a function to split a string at lowercase letters. Your code should pass these tests:\\n\\nassert split_lowerstring(\"AbCd\")==[\\'bC\\',\\'d\\']\\nassert split_lowerstring(\"Python\")==[\\'y\\', \\'t\\', \\'h\\', \\'o\\', \\'n\\']\\nassert split_lowerstring(\"Programming\")==[\\'r\\', \\'o\\', \\'g\\', \\'r\\', \\'a\\', \\'m\\', \\'m\\', \\'i\\', \\'n\\', \\'g\\']\\n[BEGIN]<｜Assistant｜><think>\\n\\nHere is the function:\\n\\n```python\\ndef split_lowerstring(s):\\n    return [s[i:j] for i in range(len(s)) for j in range(i + 1, len(s) + 1) if s[i] == s[j - 1].lower() and s[i] != s[j - 1]]\\n\\nprint(split_lowerstring(\"AbCd\"))\\nprint(split_lowerstring(\"Python\"))\\nprint(split_lowerstring(\"Programming\"))\\n```\\n\\nThis function works by iterating over the string and creating substrings of it. It checks if the current character is the same as the previous one in lowercase. If it is, it creates a substring from the current character to the end of the string. If it\\'s not, it stops creating substrings.\\n\\nThe function returns a list of substrings.\\n\\n[END]<｜Assistant｜><think>\\n\\nThis function works, but it\\'s not very efficient. It has a time complexity of O(n^2) because it creates substrings of length n and checks if they are all lowercase. This can be improved by using a single pass through the string and keeping track of the current lowercase letter.\\n\\nHere is the improved function:\\n\\n```python\\ndef split_lowerstring(s):\\n    result = []\\n    current_substring = \"\"\\n    for i, char in enumerate(s):\\n        if char.islower() and (i == len(s) - 1 or not s[i + 1].islower()):\\n            current_substring += char\\n            result.append(current_substring)\\n            current_substring = \"\"\\n    return result\\n\\nprint(split_lowerstring(\"AbCd\"))\\nprint(split_lowerstring(\"Python\"))\\nprint(split_lowerstring(\"Programming\"))\\n```\\n\\nThis function works by iterating over the string and checking if each character is a lowercase letter. If it is, it adds it to the current substring. If it\\'s not, it adds the current substring to the result and starts a new substring.\\n\\nThe function returns a list of substrings.\\n'\n",
    "print(extract_clean_function_code_from_output(t5))\n",
    "# print(t5)"
   ]
  },
  {
   "cell_type": "code",
   "execution_count": 67,
   "metadata": {},
   "outputs": [
    {
     "name": "stdout",
     "output_type": "stream",
     "text": [
      "def remove_Occ(string, char):\n",
      "    return string.replace(char, '')\n"
     ]
    }
   ],
   "source": [
    "t6 = '<｜User｜>You are an expert Python programmer, and here is your task: Write a python function to remove first and last occurrence of a given character from the string. Your code should pass these tests:\\n\\nassert remove_Occ(\"hello\",\"l\") == \"heo\"\\nassert remove_Occ(\"abcda\",\"a\") == \"bcd\"\\nassert remove_Occ(\"PHP\",\"P\") == \"H\"\\n[BEGIN]<｜Assistant｜><think>You can use the built-in Python function called `replace()` to solve this problem. The `replace()` function replaces a specified phrase with another specified phrase.\\n\\ndef remove_Occ(string, char):\\n    return string.replace(char, \\'\\')\\n\\nprint(remove_Occ(\"hello\",\"l\"))\\nprint(remove_Occ(\"abcda\",\"a\"))\\nprint(remove_Occ(\"PHP\",\"P\"))\\n[END]\\n\\nThe `replace()` function will replace all occurrences of the specified character with an empty string.\\n\\nPlease note that the `replace()` function does not remove the first and last occurrence of the character. If you want to remove the first and last occurrence of the character, you can use the `replace()` function with a negative step.\\n\\ndef remove_Occ(string, char):\\n    return string.replace(char, \\'\\', 1)\\n\\nprint(remove_Occ(\"hello\",\"l\"))\\nprint(remove_Occ(\"abcda\",\"a\"))\\nprint(remove_Occ(\"PHP\",\"P\"))\\n[END]\\n\\nThe `replace()` function with a negative step will remove the specified number of occurrences of the character.\\n\\nPlease note that the `replace()` function does not remove the first and last occurrence of the character. If you want to remove the first and last occurrence of the character, you can use the `replace()` function with a negative step.\\n\\ndef remove_Occ(string, char):\\n    return string.replace(char, \\'\\', -1)\\n\\nprint(remove_Occ(\"hello\",\"l\"))\\nprint(remove_Occ(\"abcda\",\"a\"))\\nprint(remove_Occ(\"PHP\",\"P\"))\\n[END]\\n\\nThe `replace()` function with a negative step will remove the specified number of occurrences of the character.\\n'\n",
    "print(extract_clean_function_code_from_output(t6))"
   ]
  },
  {
   "cell_type": "code",
   "execution_count": 3,
   "metadata": {},
   "outputs": [
    {
     "data": {
      "text/plain": [
       "{'prompt': '<｜begin▁of▁sentence｜><｜User｜>You are an expert Python programmer, and here is your task: Write a python function to remove first and last occurrence of a given character from the string. You should only output code without explanation and your code should pass these tests:\\n\\nassert remove_Occ(\"hello\",\"l\") == \"heo\"\\nassert remove_Occ(\"abcda\",\"a\") == \"bcd\"\\nassert remove_Occ(\"PHP\",\"P\") == \"H\"\\n[BEGIN]<｜Assistant｜><think>',\n",
       " 'ground_truth_code': 'def remove_Occ(s,ch): \\r\\n    for i in range(len(s)): \\r\\n        if (s[i] == ch): \\r\\n            s = s[0 : i] + s[i + 1:] \\r\\n            break\\r\\n    for i in range(len(s) - 1,-1,-1):  \\r\\n        if (s[i] == ch): \\r\\n            s = s[0 : i] + s[i + 1:] \\r\\n            break\\r\\n    return s ',\n",
       " 'generated_text': '<｜User｜>You are an expert Python programmer, and here is your task: Write a python function to remove first and last occurrence of a given character from the string. You should only output code without explanation and your code should pass these tests:\\n\\nassert remove_Occ(\"hello\",\"l\") == \"heo\"\\nassert remove_Occ(\"abcda\",\"a\") == \"bcd\"\\nassert remove_Occ(\"PHP\",\"P\") == \"H\"\\n[BEGIN]<｜Assistant｜><think>\\nOkay, I need to write a Python function called remove_occ that takes two arguments: a string and a character. The goal is to remove the first and last occurrence of that character from the string. Hmm, let\\'s think about how to approach this.\\n\\nFirst, I should consider the cases where the character might not be present at all. For example, if the string is \"abcda\" and the character is \"a\", then removing the first and last \"a\" would leave \"bcd\". So, I need to handle cases where the character isn\\'t found.\\n\\nWait, but what if the character appears more than twice? Like in \"hello\", if the character is \\'l\\', the first occurrence is at index 1, and the last is at index 4. So removing both would leave \"heo\". So the function should remove the first and last occurrence, regardless of their positions.\\n\\nSo the steps I need to take are:\\n\\n1. Check if the character is present in the string.\\n2. If it\\'s not present, return the original string.\\n3. If it is present, find the first and last occurrence indices.\\n4. Slice the string to exclude these two characters.\\n\\nHow do I find the first and last occurrence? I can use the string\\'s find method. The first occurrence is s.find(char), which returns the index if found, else -1. Similarly, the last occurrence can be found using rfind, which returns the index from the end.\\n\\nWait, but what if the character appears only once? Then, the first and last would be the same index, so slicing would result in an empty string. That\\'s correct.\\n\\nSo, the plan is:\\n\\n- Get the first index: first = s.find(char)\\n- Get the last index: last = s.rfind(char)\\n- If first == -1, return s\\n- Else, return s[:first] + s[last+1:]\\n\\nWait, but what if the first and last are the same? Like in the case where the string is \"aaaaa\" and the character is \\'a\\'. Then first is 0, last is 4. So s[:0] is empty, and s[5] is beyond the string, so s[last+1:] is s[5:], which is empty. So the result is empty string, which is correct.\\n\\nLet me test this logic with the sample inputs.\\n\\nSample 1: remove_Occ(\"hello\", \"l\") should return \"heo\".\\nFirst is 1,',\n",
       " 'generated_code': 'ast grammar error!',\n",
       " 'test_list': ['assert remove_Occ(\"hello\",\"l\") == \"heo\"',\n",
       "  'assert remove_Occ(\"abcda\",\"a\") == \"bcd\"',\n",
       "  'assert remove_Occ(\"PHP\",\"P\") == \"H\"'],\n",
       " 'is_correct': False,\n",
       " 'stats': {'total_energy': 15229.319969511394,\n",
       "  'tokenization_energy': 0.5919695115089416,\n",
       "  'inference_energy': 15228.727999999886,\n",
       "  'energy_per_token': 25.089489241369677,\n",
       "  'time': 305.51823902130127,\n",
       "  'components': {'embeddings': 202.5754058360383,\n",
       "   'attention': 6970.924769126934,\n",
       "   'ffn': 8216.001576339111,\n",
       "   'layernorm': 197.7739240425974,\n",
       "   'output_layer': 732.1224095590077},\n",
       "  'num_tokens': 607}}"
      ]
     },
     "execution_count": 3,
     "metadata": {},
     "output_type": "execute_result"
    }
   ],
   "source": [
    "import json\n",
    "\n",
    "with open('results/results_mbpp_qwen_50examples.json', 'r', encoding='utf-8') as f:\n",
    "    data = json.load(f)\n",
    "\n",
    "# print(type(data))  # <class 'dict'>\n",
    "# print(data)\n",
    "data[\"mbpp\"][\"fp16\"][\"examples\"][0]\n"
   ]
  },
  {
   "cell_type": "code",
   "execution_count": 5,
   "metadata": {},
   "outputs": [
    {
     "name": "stdout",
     "output_type": "stream",
     "text": [
      "<｜User｜>You are an expert Python programmer, and here is your task: Write a python function to remove first and last occurrence of a given character from the string. You should only output code without explanation and your code should pass these tests:\n",
      "\n",
      "assert remove_Occ(\"hello\",\"l\") == \"heo\"\n",
      "assert remove_Occ(\"abcda\",\"a\") == \"bcd\"\n",
      "assert remove_Occ(\"PHP\",\"P\") == \"H\"\n",
      "[BEGIN]<｜Assistant｜><think>\n",
      "Okay, I need to write a Python function called remove_occ that takes two arguments: a string and a character. The goal is to remove the first and last occurrence of that character from the string. Hmm, let's think about how to approach this.\n",
      "\n",
      "First, I should consider the cases where the character might not be present at all. For example, if the string is \"abcda\" and the character is \"a\", then removing the first and last \"a\" would leave \"bcd\". So, I need to handle cases where the character isn't found.\n",
      "\n",
      "Wait, but what if the character appears more than twice? Like in \"hello\", if the character is 'l', the first occurrence is at index 1, and the last is at index 4. So removing both would leave \"heo\". So the function should remove the first and last occurrence, regardless of their positions.\n",
      "\n",
      "So the steps I need to take are:\n",
      "\n",
      "1. Check if the character is present in the string.\n",
      "2. If it's not present, return the original string.\n",
      "3. If it is present, find the first and last occurrence indices.\n",
      "4. Slice the string to exclude these two characters.\n",
      "\n",
      "How do I find the first and last occurrence? I can use the string's find method. The first occurrence is s.find(char), which returns the index if found, else -1. Similarly, the last occurrence can be found using rfind, which returns the index from the end.\n",
      "\n",
      "Wait, but what if the character appears only once? Then, the first and last would be the same index, so slicing would result in an empty string. That's correct.\n",
      "\n",
      "So, the plan is:\n",
      "\n",
      "- Get the first index: first = s.find(char)\n",
      "- Get the last index: last = s.rfind(char)\n",
      "- If first == -1, return s\n",
      "- Else, return s[:first] + s[last+1:]\n",
      "\n",
      "Wait, but what if the first and last are the same? Like in the case where the string is \"aaaaa\" and the character is 'a'. Then first is 0, last is 4. So s[:0] is empty, and s[5] is beyond the string, so s[last+1:] is s[5:], which is empty. So the result is empty string, which is correct.\n",
      "\n",
      "Let me test this logic with the sample inputs.\n",
      "\n",
      "Sample 1: remove_Occ(\"hello\", \"l\") should return \"heo\".\n",
      "First is 1,\n"
     ]
    }
   ],
   "source": [
    "print(data[\"mbpp\"][\"fp16\"][\"examples\"][0][\"generated_text\"])"
   ]
  },
  {
   "cell_type": "code",
   "execution_count": null,
   "metadata": {},
   "outputs": [],
   "source": []
  }
 ],
 "metadata": {
  "kernelspec": {
   "display_name": "vLLM",
   "language": "python",
   "name": "python3"
  },
  "language_info": {
   "codemirror_mode": {
    "name": "ipython",
    "version": 3
   },
   "file_extension": ".py",
   "mimetype": "text/x-python",
   "name": "python",
   "nbconvert_exporter": "python",
   "pygments_lexer": "ipython3",
   "version": "3.9.22"
  }
 },
 "nbformat": 4,
 "nbformat_minor": 2
}
