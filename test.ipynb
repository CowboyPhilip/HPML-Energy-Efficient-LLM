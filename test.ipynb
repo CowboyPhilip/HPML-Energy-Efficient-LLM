{
 "cells": [
  {
   "cell_type": "code",
   "execution_count": 1,
   "metadata": {},
   "outputs": [
    {
     "ename": "ModuleNotFoundError",
     "evalue": "No module named 'flash_attn.replace'",
     "output_type": "error",
     "traceback": [
      "\u001b[0;31m---------------------------------------------------------------------------\u001b[0m",
      "\u001b[0;31mModuleNotFoundError\u001b[0m                       Traceback (most recent call last)",
      "Cell \u001b[0;32mIn[1], line 1\u001b[0m\n\u001b[0;32m----> 1\u001b[0m \u001b[38;5;28;01mfrom\u001b[39;00m\u001b[38;5;250m \u001b[39m\u001b[38;5;21;01mflash_attn\u001b[39;00m\u001b[38;5;21;01m.\u001b[39;00m\u001b[38;5;21;01mreplace\u001b[39;00m\u001b[38;5;250m \u001b[39m\u001b[38;5;28;01mimport\u001b[39;00m replace_attn_with_flash_attn\n\u001b[1;32m      2\u001b[0m \u001b[38;5;28mprint\u001b[39m(replace_attn_with_flash_attn)\n",
      "\u001b[0;31mModuleNotFoundError\u001b[0m: No module named 'flash_attn.replace'"
     ]
    }
   ],
   "source": [
    "from flash_attn.replace import replace_attn_with_flash_attn\n",
    "print(replace_attn_with_flash_attn)"
   ]
  },
  {
   "cell_type": "code",
   "execution_count": null,
   "metadata": {},
   "outputs": [
    {
     "name": "stderr",
     "output_type": "stream",
     "text": [
      "Setting `pad_token_id` to `eos_token_id`:151643 for open-end generation.\n"
     ]
    },
    {
     "name": "stdout",
     "output_type": "stream",
     "text": [
      "\n",
      "<｜User｜>What is computer?<｜Assistant｜><think>\n",
      "Okay, so I need to figure out what a computer is. I've heard the term before, but I'm not exactly sure what it means. Let me start by breaking it down. I know computers are used for a lot of things, like running software, handling data, and maybe even playing games. But what\n"
     ]
    }
   ],
   "source": [
    "\n",
    "\n",
    "import json\n",
    "import time\n",
    "import numpy as np\n",
    "from pathlib import Path\n",
    "from tqdm import tqdm\n",
    "from datasets import load_dataset  # ensure load_dataset is defined\n",
    "from transformers import (\n",
    "    AutoModelForCausalLM, AutoModelForSequenceClassification,\n",
    "    AutoTokenizer, BitsAndBytesConfig\n",
    ")\n",
    "import torch\n",
    "model_name = \"deepseek-ai/DeepSeek-R1-Distill-Qwen-1.5B\"\n",
    "\n",
    "# load tokenizer and model\n",
    "tokenizer = AutoTokenizer.from_pretrained(model_name)\n",
    "model = AutoModelForCausalLM.from_pretrained(\n",
    "    model_name, torch_dtype=torch.float16, device_map=\"auto\"  # GPU\n",
    ")\n",
    "model.eval()\n",
    "\n",
    "# prompt\n",
    "prompt = \"What is computer?\"\n",
    "formatted_prompt = f\"\"\"\n",
    "<｜begin▁of▁sentence｜><｜User｜>{prompt}<｜Assistant｜><think>\n",
    "\"\"\"\n",
    "\n",
    "inputs = tokenizer(formatted_prompt, return_tensors=\"pt\").to(model.device)\n",
    "\n",
    "with torch.no_grad():\n",
    "    outputs = model.generate(\n",
    "        **inputs,\n",
    "        max_new_tokens=512,\n",
    "        do_sample=False,\n",
    "        temperature=0.5,\n",
    "        top_p= 0.9,\n",
    "    )\n",
    "\n",
    "generated = tokenizer.decode(outputs[0], skip_special_tokens=True)\n",
    "print(generated)"
   ]
  },
  {
   "cell_type": "code",
   "execution_count": 4,
   "metadata": {},
   "outputs": [],
   "source": []
  },
  {
   "cell_type": "code",
   "execution_count": 5,
   "metadata": {},
   "outputs": [
    {
     "data": {
      "text/plain": [
       "False"
      ]
     },
     "execution_count": 5,
     "metadata": {},
     "output_type": "execute_result"
    }
   ],
   "source": [
    "\n",
    "import contextlib\n",
    "import io\n",
    "\n",
    "ans = 'def remove_Occ(s, ch):\\n    s = s.lstrip(ch)\\n    s = s.rstrip(ch)\\n    return s'\n",
    "test = ['assert remove_Occ(\"hello\",\"l\") == \"heo\"',\n",
    " 'assert remove_Occ(\"abcda\",\"a\") == \"bcd\"',\n",
    " 'assert remove_Occ(\"PHP\",\"P\") == \"H\"']\n",
    "\n",
    "def evaluate_generated_code(generated_code, test_cases):\n",
    "    \"\"\"\n",
    "    Evaluate generated code by executing it and running provided test cases.\n",
    "\n",
    "    Args:\n",
    "        generated_code (str): Generated Python function code\n",
    "        test_cases (list of str): List of test expressions to evaluate\n",
    "\n",
    "    Returns:\n",
    "        bool: True if all test cases pass, False otherwise\n",
    "    \"\"\"\n",
    "    try:\n",
    "        # Prepare an isolated execution environment\n",
    "        exec_globals = {}\n",
    "        exec_locals = {}\n",
    "\n",
    "        # Execute the generated code\n",
    "        with contextlib.redirect_stdout(io.StringIO()):\n",
    "            exec(generated_code, exec_globals, exec_locals)\n",
    "\n",
    "        # Now run all test cases\n",
    "        for test in test_cases:\n",
    "            # Each test is a string like \"assert my_func(5) == 120\"\n",
    "            with contextlib.redirect_stdout(io.StringIO()):\n",
    "                exec(test, exec_globals, exec_locals)\n",
    "\n",
    "        return True  # All tests passed\n",
    "\n",
    "    except Exception as e:\n",
    "        # If any error happens (syntax error, wrong output, etc.), the function is incorrect\n",
    "        return False\n",
    "\n",
    "evaluate_generated_code(ans,test)"
   ]
  },
  {
   "cell_type": "code",
   "execution_count": null,
   "metadata": {},
   "outputs": [],
   "source": []
  }
 ],
 "metadata": {
  "kernelspec": {
   "display_name": "vLLM",
   "language": "python",
   "name": "python3"
  },
  "language_info": {
   "codemirror_mode": {
    "name": "ipython",
    "version": 3
   },
   "file_extension": ".py",
   "mimetype": "text/x-python",
   "name": "python",
   "nbconvert_exporter": "python",
   "pygments_lexer": "ipython3",
   "version": "3.9.22"
  }
 },
 "nbformat": 4,
 "nbformat_minor": 2
}
